{
 "cells": [
  {
   "cell_type": "markdown",
   "id": "3d8b46f9-af70-45c8-b497-7e60f7f39f76",
   "metadata": {},
   "source": [
    "# Estimando o consumo de veículos"
   ]
  },
  {
   "cell_type": "markdown",
   "id": "6bc76d34-6441-40bc-ae68-da1f90dc9665",
   "metadata": {},
   "source": [
    "### Bibliotecas"
   ]
  },
  {
   "cell_type": "code",
   "execution_count": 32,
   "id": "3c845004-820f-432c-ad7f-9c3d6590c373",
   "metadata": {},
   "outputs": [],
   "source": [
    "import pandas as pd\n",
    "import numpy as np\n",
    "import matplotlib.pyplot as plt\n",
    "from sklearn.model_selection import train_test_split\n",
    "from sklearn.linear_model import LinearRegression\n",
    "from sklearn.metrics import mean_squared_error, r2_score\n",
    "from sklearn.neighbors import KNeighborsRegressor"
   ]
  },
  {
   "cell_type": "markdown",
   "id": "d305a7a0-5e9d-454e-967b-437c988ea67c",
   "metadata": {},
   "source": [
    "### Abrindo Dataset\n",
    "\n",
    "Visualizando os primeiros exemplos contidos no dataset (cabeçalho).\n",
    "Passo útil para checar se a importação foi realizada corretamente e a disposição dos dados."
   ]
  },
  {
   "cell_type": "code",
   "execution_count": 8,
   "id": "2dacdaf2-b33c-4e4b-a0cd-a9c11da9f584",
   "metadata": {},
   "outputs": [
    {
     "data": {
      "text/html": [
       "<div>\n",
       "<style scoped>\n",
       "    .dataframe tbody tr th:only-of-type {\n",
       "        vertical-align: middle;\n",
       "    }\n",
       "\n",
       "    .dataframe tbody tr th {\n",
       "        vertical-align: top;\n",
       "    }\n",
       "\n",
       "    .dataframe thead th {\n",
       "        text-align: right;\n",
       "    }\n",
       "</style>\n",
       "<table border=\"1\" class=\"dataframe\">\n",
       "  <thead>\n",
       "    <tr style=\"text-align: right;\">\n",
       "      <th></th>\n",
       "      <th>mpg</th>\n",
       "      <th>cylinders</th>\n",
       "      <th>displacement</th>\n",
       "      <th>horsepower</th>\n",
       "      <th>weight</th>\n",
       "      <th>acceleration</th>\n",
       "      <th>modelyear</th>\n",
       "      <th>origin</th>\n",
       "      <th>name</th>\n",
       "    </tr>\n",
       "  </thead>\n",
       "  <tbody>\n",
       "    <tr>\n",
       "      <th>0</th>\n",
       "      <td>18.0</td>\n",
       "      <td>8.0</td>\n",
       "      <td>307.0</td>\n",
       "      <td>130.0</td>\n",
       "      <td>3504.0</td>\n",
       "      <td>12.0</td>\n",
       "      <td>70.0</td>\n",
       "      <td>1.0</td>\n",
       "      <td>chevrolet chevelle malibu</td>\n",
       "    </tr>\n",
       "    <tr>\n",
       "      <th>1</th>\n",
       "      <td>15.0</td>\n",
       "      <td>8.0</td>\n",
       "      <td>350.0</td>\n",
       "      <td>165.0</td>\n",
       "      <td>3693.0</td>\n",
       "      <td>11.5</td>\n",
       "      <td>70.0</td>\n",
       "      <td>1.0</td>\n",
       "      <td>buick skylark 320</td>\n",
       "    </tr>\n",
       "    <tr>\n",
       "      <th>2</th>\n",
       "      <td>18.0</td>\n",
       "      <td>8.0</td>\n",
       "      <td>318.0</td>\n",
       "      <td>150.0</td>\n",
       "      <td>3436.0</td>\n",
       "      <td>11.0</td>\n",
       "      <td>70.0</td>\n",
       "      <td>1.0</td>\n",
       "      <td>plymouth satellite</td>\n",
       "    </tr>\n",
       "    <tr>\n",
       "      <th>3</th>\n",
       "      <td>16.0</td>\n",
       "      <td>8.0</td>\n",
       "      <td>304.0</td>\n",
       "      <td>150.0</td>\n",
       "      <td>3433.0</td>\n",
       "      <td>12.0</td>\n",
       "      <td>70.0</td>\n",
       "      <td>1.0</td>\n",
       "      <td>amc rebel sst</td>\n",
       "    </tr>\n",
       "    <tr>\n",
       "      <th>4</th>\n",
       "      <td>17.0</td>\n",
       "      <td>8.0</td>\n",
       "      <td>302.0</td>\n",
       "      <td>140.0</td>\n",
       "      <td>3449.0</td>\n",
       "      <td>10.5</td>\n",
       "      <td>70.0</td>\n",
       "      <td>1.0</td>\n",
       "      <td>ford torino</td>\n",
       "    </tr>\n",
       "  </tbody>\n",
       "</table>\n",
       "</div>"
      ],
      "text/plain": [
       "    mpg  cylinders  displacement  horsepower  weight  acceleration  modelyear  \\\n",
       "0  18.0        8.0         307.0       130.0  3504.0          12.0       70.0   \n",
       "1  15.0        8.0         350.0       165.0  3693.0          11.5       70.0   \n",
       "2  18.0        8.0         318.0       150.0  3436.0          11.0       70.0   \n",
       "3  16.0        8.0         304.0       150.0  3433.0          12.0       70.0   \n",
       "4  17.0        8.0         302.0       140.0  3449.0          10.5       70.0   \n",
       "\n",
       "   origin                       name  \n",
       "0     1.0  chevrolet chevelle malibu  \n",
       "1     1.0          buick skylark 320  \n",
       "2     1.0         plymouth satellite  \n",
       "3     1.0              amc rebel sst  \n",
       "4     1.0                ford torino  "
      ]
     },
     "execution_count": 8,
     "metadata": {},
     "output_type": "execute_result"
    }
   ],
   "source": [
    "df = pd.read_csv(\"features_autompg.csv\", sep = ';')\n",
    "df.head()"
   ]
  },
  {
   "cell_type": "markdown",
   "id": "98b8dda3-2491-4271-9266-135bd2711a59",
   "metadata": {},
   "source": [
    "### Conhecendo o dataset\n",
    "Explorando o conjunto de dados\n",
    "\n",
    "1. Quantos exemplos há no dataset?"
   ]
  },
  {
   "cell_type": "code",
   "execution_count": 9,
   "id": "82b96c70-6e70-4077-9e44-057a31f70910",
   "metadata": {},
   "outputs": [
    {
     "data": {
      "text/plain": [
       "406"
      ]
     },
     "execution_count": 9,
     "metadata": {},
     "output_type": "execute_result"
    }
   ],
   "source": [
    "len(df)"
   ]
  },
  {
   "cell_type": "markdown",
   "id": "b697384e-e9d1-49e1-939a-26f4d27fdf8e",
   "metadata": {},
   "source": [
    "2. Quais os atributos existentes no dataset?"
   ]
  },
  {
   "cell_type": "code",
   "execution_count": 11,
   "id": "be210b12-0599-48ab-9369-83e2df088714",
   "metadata": {},
   "outputs": [
    {
     "data": {
      "text/plain": [
       "Index(['mpg', 'cylinders', 'displacement', 'horsepower', 'weight',\n",
       "       'acceleration', 'modelyear', 'origin', 'name'],\n",
       "      dtype='object')"
      ]
     },
     "execution_count": 11,
     "metadata": {},
     "output_type": "execute_result"
    }
   ],
   "source": [
    "df.columns"
   ]
  },
  {
   "cell_type": "markdown",
   "id": "3c1c326b-cc13-4557-acd9-e297b646185d",
   "metadata": {},
   "source": [
    "3. Quais os nomes dos carros existentes no dataset?"
   ]
  },
  {
   "cell_type": "code",
   "execution_count": 12,
   "id": "761069b1-408f-47af-819d-64f65af70460",
   "metadata": {},
   "outputs": [
    {
     "data": {
      "text/plain": [
       "0      chevrolet chevelle malibu\n",
       "1              buick skylark 320\n",
       "2             plymouth satellite\n",
       "3                  amc rebel sst\n",
       "4                    ford torino\n",
       "                 ...            \n",
       "401              ford mustang gl\n",
       "402                    vw pickup\n",
       "403                dodge rampage\n",
       "404                  ford ranger\n",
       "405                   chevy s-10\n",
       "Name: name, Length: 406, dtype: object"
      ]
     },
     "execution_count": 12,
     "metadata": {},
     "output_type": "execute_result"
    }
   ],
   "source": [
    "df[\"name\"]"
   ]
  },
  {
   "cell_type": "markdown",
   "id": "985ee84b-f274-439e-98d6-09ef3ce92f5a",
   "metadata": {},
   "source": [
    "4. Quais as características do 'chevrolet camaro'?"
   ]
  },
  {
   "cell_type": "code",
   "execution_count": 13,
   "id": "2d3e976f-c373-4592-b745-d09b1de0e8f6",
   "metadata": {},
   "outputs": [
    {
     "data": {
      "text/html": [
       "<div>\n",
       "<style scoped>\n",
       "    .dataframe tbody tr th:only-of-type {\n",
       "        vertical-align: middle;\n",
       "    }\n",
       "\n",
       "    .dataframe tbody tr th {\n",
       "        vertical-align: top;\n",
       "    }\n",
       "\n",
       "    .dataframe thead th {\n",
       "        text-align: right;\n",
       "    }\n",
       "</style>\n",
       "<table border=\"1\" class=\"dataframe\">\n",
       "  <thead>\n",
       "    <tr style=\"text-align: right;\">\n",
       "      <th></th>\n",
       "      <th>mpg</th>\n",
       "      <th>cylinders</th>\n",
       "      <th>displacement</th>\n",
       "      <th>horsepower</th>\n",
       "      <th>weight</th>\n",
       "      <th>acceleration</th>\n",
       "      <th>modelyear</th>\n",
       "      <th>origin</th>\n",
       "      <th>name</th>\n",
       "    </tr>\n",
       "  </thead>\n",
       "  <tbody>\n",
       "    <tr>\n",
       "      <th>400</th>\n",
       "      <td>27.0</td>\n",
       "      <td>4.0</td>\n",
       "      <td>151.0</td>\n",
       "      <td>90.0</td>\n",
       "      <td>2950.0</td>\n",
       "      <td>17.3</td>\n",
       "      <td>82.0</td>\n",
       "      <td>1.0</td>\n",
       "      <td>chevrolet camaro</td>\n",
       "    </tr>\n",
       "  </tbody>\n",
       "</table>\n",
       "</div>"
      ],
      "text/plain": [
       "      mpg  cylinders  displacement  horsepower  weight  acceleration  \\\n",
       "400  27.0        4.0         151.0        90.0  2950.0          17.3   \n",
       "\n",
       "     modelyear  origin              name  \n",
       "400       82.0     1.0  chevrolet camaro  "
      ]
     },
     "execution_count": 13,
     "metadata": {},
     "output_type": "execute_result"
    }
   ],
   "source": [
    "df.loc[df[\"name\"] == \"chevrolet camaro\"]"
   ]
  },
  {
   "cell_type": "markdown",
   "id": "ed652fc6-61b0-4b73-863b-1a587a1f00ba",
   "metadata": {},
   "source": [
    "5. Qual a média de consumo, em galões por litro, dos carros existentes no dataset?"
   ]
  },
  {
   "cell_type": "code",
   "execution_count": 14,
   "id": "52847733-3095-4eaf-9e55-2b59b6b685ad",
   "metadata": {},
   "outputs": [
    {
     "data": {
      "text/plain": [
       "23.514572864321607"
      ]
     },
     "execution_count": 14,
     "metadata": {},
     "output_type": "execute_result"
    }
   ],
   "source": [
    "np.mean(df[\"mpg\"])"
   ]
  },
  {
   "cell_type": "markdown",
   "id": "0d72c0e7-853b-4494-9afc-d3af9ae38cee",
   "metadata": {},
   "source": [
    "### Preparação dos dados\n",
    "\n",
    "1. Eliminando exemplos com dados faltantes"
   ]
  },
  {
   "cell_type": "code",
   "execution_count": 15,
   "id": "48378514-9fa3-47e5-97aa-821ec556fc19",
   "metadata": {},
   "outputs": [
    {
     "data": {
      "text/plain": [
       "392"
      ]
     },
     "execution_count": 15,
     "metadata": {},
     "output_type": "execute_result"
    }
   ],
   "source": [
    "df.dropna(inplace = True)\n",
    "len(df)"
   ]
  },
  {
   "cell_type": "markdown",
   "id": "650acb03-9d3e-4d6c-b305-ecdb4dfd81fa",
   "metadata": {},
   "source": [
    "2. Excluindo a coluna com os nomes dos carros"
   ]
  },
  {
   "cell_type": "code",
   "execution_count": 16,
   "id": "36effd57-7a09-4e8f-ab12-2896bcd0a990",
   "metadata": {},
   "outputs": [
    {
     "data": {
      "text/html": [
       "<div>\n",
       "<style scoped>\n",
       "    .dataframe tbody tr th:only-of-type {\n",
       "        vertical-align: middle;\n",
       "    }\n",
       "\n",
       "    .dataframe tbody tr th {\n",
       "        vertical-align: top;\n",
       "    }\n",
       "\n",
       "    .dataframe thead th {\n",
       "        text-align: right;\n",
       "    }\n",
       "</style>\n",
       "<table border=\"1\" class=\"dataframe\">\n",
       "  <thead>\n",
       "    <tr style=\"text-align: right;\">\n",
       "      <th></th>\n",
       "      <th>mpg</th>\n",
       "      <th>cylinders</th>\n",
       "      <th>displacement</th>\n",
       "      <th>horsepower</th>\n",
       "      <th>weight</th>\n",
       "      <th>acceleration</th>\n",
       "      <th>modelyear</th>\n",
       "      <th>origin</th>\n",
       "    </tr>\n",
       "  </thead>\n",
       "  <tbody>\n",
       "    <tr>\n",
       "      <th>0</th>\n",
       "      <td>18.0</td>\n",
       "      <td>8.0</td>\n",
       "      <td>307.0</td>\n",
       "      <td>130.0</td>\n",
       "      <td>3504.0</td>\n",
       "      <td>12.0</td>\n",
       "      <td>70.0</td>\n",
       "      <td>1.0</td>\n",
       "    </tr>\n",
       "    <tr>\n",
       "      <th>1</th>\n",
       "      <td>15.0</td>\n",
       "      <td>8.0</td>\n",
       "      <td>350.0</td>\n",
       "      <td>165.0</td>\n",
       "      <td>3693.0</td>\n",
       "      <td>11.5</td>\n",
       "      <td>70.0</td>\n",
       "      <td>1.0</td>\n",
       "    </tr>\n",
       "    <tr>\n",
       "      <th>2</th>\n",
       "      <td>18.0</td>\n",
       "      <td>8.0</td>\n",
       "      <td>318.0</td>\n",
       "      <td>150.0</td>\n",
       "      <td>3436.0</td>\n",
       "      <td>11.0</td>\n",
       "      <td>70.0</td>\n",
       "      <td>1.0</td>\n",
       "    </tr>\n",
       "    <tr>\n",
       "      <th>3</th>\n",
       "      <td>16.0</td>\n",
       "      <td>8.0</td>\n",
       "      <td>304.0</td>\n",
       "      <td>150.0</td>\n",
       "      <td>3433.0</td>\n",
       "      <td>12.0</td>\n",
       "      <td>70.0</td>\n",
       "      <td>1.0</td>\n",
       "    </tr>\n",
       "    <tr>\n",
       "      <th>4</th>\n",
       "      <td>17.0</td>\n",
       "      <td>8.0</td>\n",
       "      <td>302.0</td>\n",
       "      <td>140.0</td>\n",
       "      <td>3449.0</td>\n",
       "      <td>10.5</td>\n",
       "      <td>70.0</td>\n",
       "      <td>1.0</td>\n",
       "    </tr>\n",
       "  </tbody>\n",
       "</table>\n",
       "</div>"
      ],
      "text/plain": [
       "    mpg  cylinders  displacement  horsepower  weight  acceleration  modelyear  \\\n",
       "0  18.0        8.0         307.0       130.0  3504.0          12.0       70.0   \n",
       "1  15.0        8.0         350.0       165.0  3693.0          11.5       70.0   \n",
       "2  18.0        8.0         318.0       150.0  3436.0          11.0       70.0   \n",
       "3  16.0        8.0         304.0       150.0  3433.0          12.0       70.0   \n",
       "4  17.0        8.0         302.0       140.0  3449.0          10.5       70.0   \n",
       "\n",
       "   origin  \n",
       "0     1.0  \n",
       "1     1.0  \n",
       "2     1.0  \n",
       "3     1.0  \n",
       "4     1.0  "
      ]
     },
     "execution_count": 16,
     "metadata": {},
     "output_type": "execute_result"
    }
   ],
   "source": [
    "df.drop([\"name\"], axis = 1, inplace = True)\n",
    "df.head()"
   ]
  },
  {
   "cell_type": "markdown",
   "id": "3ba63af6-7651-4b79-ab32-8cb6d5d024d9",
   "metadata": {},
   "source": [
    "3. Convertendo mpg para km/l (1 mpg  = 0.425 km/l) usando duas casas decimais"
   ]
  },
  {
   "cell_type": "code",
   "execution_count": 19,
   "id": "c5baee87-7540-4ef5-835a-3310522333b5",
   "metadata": {},
   "outputs": [],
   "source": [
    "kml = []\n",
    "\n",
    "for x in df[\"mpg\"]:\n",
    "    x *= 0.425\n",
    "    kml.append(round(x, 2))"
   ]
  },
  {
   "cell_type": "markdown",
   "id": "e2208c98-1eae-4a1a-8326-0969b7d6f95f",
   "metadata": {},
   "source": [
    "4. Removendo a coluna mpg e inserindo a coluna kml no dataset"
   ]
  },
  {
   "cell_type": "code",
   "execution_count": 20,
   "id": "17eb3e77-4870-4a21-9c11-64bfe05121c0",
   "metadata": {},
   "outputs": [
    {
     "data": {
      "text/html": [
       "<div>\n",
       "<style scoped>\n",
       "    .dataframe tbody tr th:only-of-type {\n",
       "        vertical-align: middle;\n",
       "    }\n",
       "\n",
       "    .dataframe tbody tr th {\n",
       "        vertical-align: top;\n",
       "    }\n",
       "\n",
       "    .dataframe thead th {\n",
       "        text-align: right;\n",
       "    }\n",
       "</style>\n",
       "<table border=\"1\" class=\"dataframe\">\n",
       "  <thead>\n",
       "    <tr style=\"text-align: right;\">\n",
       "      <th></th>\n",
       "      <th>cylinders</th>\n",
       "      <th>displacement</th>\n",
       "      <th>horsepower</th>\n",
       "      <th>weight</th>\n",
       "      <th>acceleration</th>\n",
       "      <th>modelyear</th>\n",
       "      <th>origin</th>\n",
       "      <th>kml</th>\n",
       "    </tr>\n",
       "  </thead>\n",
       "  <tbody>\n",
       "    <tr>\n",
       "      <th>0</th>\n",
       "      <td>8.0</td>\n",
       "      <td>307.0</td>\n",
       "      <td>130.0</td>\n",
       "      <td>3504.0</td>\n",
       "      <td>12.0</td>\n",
       "      <td>70.0</td>\n",
       "      <td>1.0</td>\n",
       "      <td>7.65</td>\n",
       "    </tr>\n",
       "    <tr>\n",
       "      <th>1</th>\n",
       "      <td>8.0</td>\n",
       "      <td>350.0</td>\n",
       "      <td>165.0</td>\n",
       "      <td>3693.0</td>\n",
       "      <td>11.5</td>\n",
       "      <td>70.0</td>\n",
       "      <td>1.0</td>\n",
       "      <td>6.38</td>\n",
       "    </tr>\n",
       "    <tr>\n",
       "      <th>2</th>\n",
       "      <td>8.0</td>\n",
       "      <td>318.0</td>\n",
       "      <td>150.0</td>\n",
       "      <td>3436.0</td>\n",
       "      <td>11.0</td>\n",
       "      <td>70.0</td>\n",
       "      <td>1.0</td>\n",
       "      <td>7.65</td>\n",
       "    </tr>\n",
       "    <tr>\n",
       "      <th>3</th>\n",
       "      <td>8.0</td>\n",
       "      <td>304.0</td>\n",
       "      <td>150.0</td>\n",
       "      <td>3433.0</td>\n",
       "      <td>12.0</td>\n",
       "      <td>70.0</td>\n",
       "      <td>1.0</td>\n",
       "      <td>6.80</td>\n",
       "    </tr>\n",
       "    <tr>\n",
       "      <th>4</th>\n",
       "      <td>8.0</td>\n",
       "      <td>302.0</td>\n",
       "      <td>140.0</td>\n",
       "      <td>3449.0</td>\n",
       "      <td>10.5</td>\n",
       "      <td>70.0</td>\n",
       "      <td>1.0</td>\n",
       "      <td>7.22</td>\n",
       "    </tr>\n",
       "  </tbody>\n",
       "</table>\n",
       "</div>"
      ],
      "text/plain": [
       "   cylinders  displacement  horsepower  weight  acceleration  modelyear  \\\n",
       "0        8.0         307.0       130.0  3504.0          12.0       70.0   \n",
       "1        8.0         350.0       165.0  3693.0          11.5       70.0   \n",
       "2        8.0         318.0       150.0  3436.0          11.0       70.0   \n",
       "3        8.0         304.0       150.0  3433.0          12.0       70.0   \n",
       "4        8.0         302.0       140.0  3449.0          10.5       70.0   \n",
       "\n",
       "   origin   kml  \n",
       "0     1.0  7.65  \n",
       "1     1.0  6.38  \n",
       "2     1.0  7.65  \n",
       "3     1.0  6.80  \n",
       "4     1.0  7.22  "
      ]
     },
     "execution_count": 20,
     "metadata": {},
     "output_type": "execute_result"
    }
   ],
   "source": [
    "df[\"kml\"] = kml\n",
    "df.drop([\"mpg\"], axis = 1, inplace = True)\n",
    "df.head()"
   ]
  },
  {
   "cell_type": "markdown",
   "id": "d8f16232-af9e-4492-8e27-fa0f07678b29",
   "metadata": {},
   "source": [
    "### Organização dos dados para treinamento\n",
    "\n",
    "1. Removendo a coluna kml e armazenando-a em Y\n",
    "2. Atribuindo os demais valores do dataset a X"
   ]
  },
  {
   "cell_type": "code",
   "execution_count": 21,
   "id": "96a5db75-a08d-44a2-9b25-e8de45f5a257",
   "metadata": {},
   "outputs": [
    {
     "data": {
      "text/html": [
       "<div>\n",
       "<style scoped>\n",
       "    .dataframe tbody tr th:only-of-type {\n",
       "        vertical-align: middle;\n",
       "    }\n",
       "\n",
       "    .dataframe tbody tr th {\n",
       "        vertical-align: top;\n",
       "    }\n",
       "\n",
       "    .dataframe thead th {\n",
       "        text-align: right;\n",
       "    }\n",
       "</style>\n",
       "<table border=\"1\" class=\"dataframe\">\n",
       "  <thead>\n",
       "    <tr style=\"text-align: right;\">\n",
       "      <th></th>\n",
       "      <th>cylinders</th>\n",
       "      <th>displacement</th>\n",
       "      <th>horsepower</th>\n",
       "      <th>weight</th>\n",
       "      <th>acceleration</th>\n",
       "      <th>modelyear</th>\n",
       "      <th>origin</th>\n",
       "    </tr>\n",
       "  </thead>\n",
       "  <tbody>\n",
       "    <tr>\n",
       "      <th>0</th>\n",
       "      <td>8.0</td>\n",
       "      <td>307.0</td>\n",
       "      <td>130.0</td>\n",
       "      <td>3504.0</td>\n",
       "      <td>12.0</td>\n",
       "      <td>70.0</td>\n",
       "      <td>1.0</td>\n",
       "    </tr>\n",
       "    <tr>\n",
       "      <th>1</th>\n",
       "      <td>8.0</td>\n",
       "      <td>350.0</td>\n",
       "      <td>165.0</td>\n",
       "      <td>3693.0</td>\n",
       "      <td>11.5</td>\n",
       "      <td>70.0</td>\n",
       "      <td>1.0</td>\n",
       "    </tr>\n",
       "    <tr>\n",
       "      <th>2</th>\n",
       "      <td>8.0</td>\n",
       "      <td>318.0</td>\n",
       "      <td>150.0</td>\n",
       "      <td>3436.0</td>\n",
       "      <td>11.0</td>\n",
       "      <td>70.0</td>\n",
       "      <td>1.0</td>\n",
       "    </tr>\n",
       "    <tr>\n",
       "      <th>3</th>\n",
       "      <td>8.0</td>\n",
       "      <td>304.0</td>\n",
       "      <td>150.0</td>\n",
       "      <td>3433.0</td>\n",
       "      <td>12.0</td>\n",
       "      <td>70.0</td>\n",
       "      <td>1.0</td>\n",
       "    </tr>\n",
       "    <tr>\n",
       "      <th>4</th>\n",
       "      <td>8.0</td>\n",
       "      <td>302.0</td>\n",
       "      <td>140.0</td>\n",
       "      <td>3449.0</td>\n",
       "      <td>10.5</td>\n",
       "      <td>70.0</td>\n",
       "      <td>1.0</td>\n",
       "    </tr>\n",
       "  </tbody>\n",
       "</table>\n",
       "</div>"
      ],
      "text/plain": [
       "   cylinders  displacement  horsepower  weight  acceleration  modelyear  \\\n",
       "0        8.0         307.0       130.0  3504.0          12.0       70.0   \n",
       "1        8.0         350.0       165.0  3693.0          11.5       70.0   \n",
       "2        8.0         318.0       150.0  3436.0          11.0       70.0   \n",
       "3        8.0         304.0       150.0  3433.0          12.0       70.0   \n",
       "4        8.0         302.0       140.0  3449.0          10.5       70.0   \n",
       "\n",
       "   origin  \n",
       "0     1.0  \n",
       "1     1.0  \n",
       "2     1.0  \n",
       "3     1.0  \n",
       "4     1.0  "
      ]
     },
     "execution_count": 21,
     "metadata": {},
     "output_type": "execute_result"
    }
   ],
   "source": [
    "Y = df[\"kml\"]\n",
    "df.drop([\"kml\"], axis = 1, inplace = True)\n",
    "X = df\n",
    "X.head()"
   ]
  },
  {
   "cell_type": "markdown",
   "id": "eb164d75-0ba4-4618-8e75-35b6b44788f7",
   "metadata": {},
   "source": [
    "3. Fazendo uma partição holdout 70/30 com o sklearn"
   ]
  },
  {
   "cell_type": "code",
   "execution_count": 22,
   "id": "36ca67b5-6d54-42fb-ba16-3bc2e777eb0a",
   "metadata": {},
   "outputs": [],
   "source": [
    "X_train, X_test, Y_train, Y_test = train_test_split(X, Y, test_size = 0.30)"
   ]
  },
  {
   "cell_type": "markdown",
   "id": "1f89836b-d2c2-49c5-93b9-929aeff5ab53",
   "metadata": {},
   "source": [
    "### Treinamento de um modelo ML: Regressão Linear\n",
    "\n",
    "1. Importado da biblioteca sklearn\n",
    "2. Instanciando-o com parâmetros padrão (default)\n",
    "3. Executando o algoritmo de treinamento com os dados de treino"
   ]
  },
  {
   "cell_type": "code",
   "execution_count": 23,
   "id": "d7018e82-0c80-4495-9bdd-84ba4865d941",
   "metadata": {},
   "outputs": [
    {
     "data": {
      "text/plain": [
       "LinearRegression()"
      ]
     },
     "execution_count": 23,
     "metadata": {},
     "output_type": "execute_result"
    }
   ],
   "source": [
    "regr = LinearRegression()\n",
    "\n",
    "# Treinando o modelo com os dados obtidos na partição holdout\n",
    "regr.fit(X_train, Y_train)"
   ]
  },
  {
   "cell_type": "markdown",
   "id": "ff26fc58-4372-4f89-8bc7-353abf603cee",
   "metadata": {},
   "source": [
    "### Teste do modelo\n",
    "\n",
    "Observando a saída do modelo para dois exemplos individuais contidos nos dados de treino:\n",
    "* Atributos preditores: X_test[2:3]\n",
    "* Atributo alvo: Y_test.iloc[2]\n",
    "* Comparando o resultado obtido com o esperado"
   ]
  },
  {
   "cell_type": "code",
   "execution_count": 24,
   "id": "ddbcdbff-f00d-46c1-8f73-6f938ee6ae12",
   "metadata": {},
   "outputs": [
    {
     "name": "stdout",
     "output_type": "stream",
     "text": [
      "[9.70874979] 7.22\n"
     ]
    }
   ],
   "source": [
    "teste1 = X_test[2:3]\n",
    "resultado = regr.predict(teste1)\n",
    "print(resultado, Y_test.iloc[2])"
   ]
  },
  {
   "cell_type": "markdown",
   "id": "bc6d5ce6-ed9f-4941-a38c-0f8f89fde09a",
   "metadata": {},
   "source": [
    "* Atributos preditores: X_test[80:81]\n",
    "* Atributo alvo: Y_test.iloc[80]\n",
    "* Comparando o resultado obtido com o esperado"
   ]
  },
  {
   "cell_type": "code",
   "execution_count": 25,
   "id": "85d1c317-b98b-4901-8927-7349c7ad581f",
   "metadata": {},
   "outputs": [
    {
     "name": "stdout",
     "output_type": "stream",
     "text": [
      "[5.01808773] 6.8\n"
     ]
    }
   ],
   "source": [
    "teste2 = X_test[80:81]\n",
    "resultado = regr.predict(teste2)\n",
    "print(resultado, Y_test.iloc[80])"
   ]
  },
  {
   "cell_type": "markdown",
   "id": "d03365fd-8411-43d4-93f1-a45afd3a7941",
   "metadata": {},
   "source": [
    "### Métricas do modelo\n",
    "\n",
    "1. Calculando o erro médio quadrático para todos os dados de teste\n",
    " * Somatório do quadrado das diferenças entre valores previstos pelo modelo e observados na prática\n",
    " * Quanto mais próximo de zero, melhor este resultado"
   ]
  },
  {
   "cell_type": "code",
   "execution_count": 26,
   "id": "2c4f6855-37c5-4b1b-8000-7cd2a143a7fd",
   "metadata": {},
   "outputs": [
    {
     "data": {
      "text/plain": [
       "1.8857385185778741"
      ]
     },
     "execution_count": 26,
     "metadata": {},
     "output_type": "execute_result"
    }
   ],
   "source": [
    "Y_predito = regr.predict(X_test)\n",
    "mse = mean_squared_error(Y_predito, Y_test)\n",
    "mse"
   ]
  },
  {
   "cell_type": "markdown",
   "id": "1837752e-dbce-4868-b234-5b6fa7ac5d0c",
   "metadata": {},
   "source": [
    "2. Obtenha o r^2 para os dados de teste\n",
    " * Um valor no intervalo [-infinito (ou 0),1]\n",
    " * Quanto mais próximo de 1, melhor é o modelo"
   ]
  },
  {
   "cell_type": "code",
   "execution_count": 27,
   "id": "94a2d775-c766-418f-a9ff-60310f19e7ea",
   "metadata": {},
   "outputs": [
    {
     "data": {
      "text/plain": [
       "0.7844540173280055"
      ]
     },
     "execution_count": 27,
     "metadata": {},
     "output_type": "execute_result"
    }
   ],
   "source": [
    "r2 = r2_score(Y_predito, Y_test)\n",
    "r2"
   ]
  },
  {
   "cell_type": "markdown",
   "id": "71cdc3b6-4b67-4763-8c12-8e877266358d",
   "metadata": {},
   "source": [
    "### Obtendo os resíduos\n",
    "Diferença entre os valores previstos e os esperados"
   ]
  },
  {
   "cell_type": "code",
   "execution_count": 28,
   "id": "3e15efd5-0c25-4fee-b5db-bfd7d7ad5673",
   "metadata": {},
   "outputs": [
    {
     "data": {
      "text/plain": [
       "[1.1275232263947466,\n",
       " 0.3630244506015508,\n",
       " 6.193875534698872,\n",
       " 0.02842778886869304,\n",
       " 0.4326911550441734,\n",
       " 1.0278378859194555,\n",
       " 0.011666923478874065,\n",
       " 0.711650817385362,\n",
       " 0.7657562424133403,\n",
       " 0.09415706062256886,\n",
       " 1.8604528574731678,\n",
       " 0.7101974450477975,\n",
       " 0.0034085297115139836,\n",
       " 0.018698479362870623,\n",
       " 0.08475709331795273,\n",
       " 5.643395128861889,\n",
       " 1.3762296670049772,\n",
       " 5.312903696359451,\n",
       " 0.010059524586593236,\n",
       " 0.14814506675968336,\n",
       " 0.2193086013640924,\n",
       " 0.03472348541322303,\n",
       " 4.159251476802649,\n",
       " 0.7252576738852333,\n",
       " 0.8011078245762164,\n",
       " 0.029827894892737464,\n",
       " 0.5823882923929297,\n",
       " 0.1403495371937432,\n",
       " 2.530272502556198,\n",
       " 1.5141295895630567,\n",
       " 0.02840634822539075,\n",
       " 0.01815762365761195,\n",
       " 0.128591074609612,\n",
       " 6.86400846228937,\n",
       " 4.603457964601095,\n",
       " 1.3873509530840302,\n",
       " 15.573928810774513,\n",
       " 0.1853195739444036,\n",
       " 0.1867029319365949,\n",
       " 2.110019211656623,\n",
       " 1.1045295650838904,\n",
       " 0.9053699097375926,\n",
       " 3.827919783191091,\n",
       " 2.710569053718721,\n",
       " 0.85318298195708,\n",
       " 0.39200670063692705,\n",
       " 0.31052783327849437,\n",
       " 3.36992640818135,\n",
       " 0.37230947633840733,\n",
       " 0.010958164820579961,\n",
       " 0.3064128409985914,\n",
       " 0.10337166295751898,\n",
       " 1.381511243728109,\n",
       " 0.03516010394970822,\n",
       " 18.104900846134598,\n",
       " 1.5339631617673954,\n",
       " 0.6728621907043476,\n",
       " 1.0758553196439333,\n",
       " 0.1582058712240332,\n",
       " 0.4032090695250362,\n",
       " 0.638784406416145,\n",
       " 0.8053290262207795,\n",
       " 0.5385235836986835,\n",
       " 31.35982260402853,\n",
       " 0.1883561547639552,\n",
       " 1.5076042982628302,\n",
       " 0.1857488077673274,\n",
       " 8.989805324671694,\n",
       " 0.23401260538490734,\n",
       " 11.244209420527794,\n",
       " 1.2306308972466247,\n",
       " 0.9934575108757456,\n",
       " 1.268082932245298,\n",
       " 0.1843002429626382,\n",
       " 0.46113117598525166,\n",
       " 0.9116669112404522,\n",
       " 0.2312862126197122,\n",
       " 0.048137354086723476,\n",
       " 0.222614754379772,\n",
       " 0.051651191451317864,\n",
       " 3.1752113364621612,\n",
       " 3.215983625157128,\n",
       " 0.7616769714631996,\n",
       " 0.5924361121092331,\n",
       " 0.16776111343074845,\n",
       " 1.139953520154913,\n",
       " 0.00021889331130006822,\n",
       " 0.008461033692763634,\n",
       " 0.08725974585871488,\n",
       " 0.03666189042338471,\n",
       " 0.0010386775049165224,\n",
       " 0.7334030539624466,\n",
       " 0.6445484524599373,\n",
       " 1.9142245904170045,\n",
       " 1.3229796417167856,\n",
       " 0.7982838988597654,\n",
       " 4.503487008221841,\n",
       " 0.13922976783837615,\n",
       " 7.072409448855782,\n",
       " 4.631582940974246,\n",
       " 3.4244938067006374,\n",
       " 0.3727979839649969,\n",
       " 3.4548818509245125,\n",
       " 0.5355725987779014,\n",
       " 0.26168412466324126,\n",
       " 0.06518996187215455,\n",
       " 1.616846151174904,\n",
       " 2.0734391766110964,\n",
       " 0.07690153516368281,\n",
       " 2.4376791829895637,\n",
       " 0.05307497286555692,\n",
       " 2.321166180449006,\n",
       " 0.5174676843526882,\n",
       " 0.6749516297016901,\n",
       " 1.8024733814688991,\n",
       " 2.699650327737575,\n",
       " 0.0209342098607437,\n",
       " 2.4858027002892142]"
      ]
     },
     "execution_count": 28,
     "metadata": {},
     "output_type": "execute_result"
    }
   ],
   "source": [
    "residuos = []\n",
    "for (x,y) in zip(Y_test,Y_predito):\n",
    "    residuos.append((x-y)**2)\n",
    "residuos"
   ]
  },
  {
   "cell_type": "markdown",
   "id": "1088b04e-a329-4097-9cec-9862bf87b1e8",
   "metadata": {},
   "source": [
    "* Plotando gráfico com os resíduos"
   ]
  },
  {
   "cell_type": "code",
   "execution_count": 36,
   "id": "efe2cd84-d6fb-4636-a509-277148dd7a88",
   "metadata": {},
   "outputs": [
    {
     "data": {
      "image/png": "[encoded data removed]",
      "text/plain": [
       "<Figure size 432x288 with 1 Axes>"
      ]
     },
     "metadata": {
      "needs_background": "light"
     },
     "output_type": "display_data"
    }
   ],
   "source": [
    "x = [0,int(max(Y_test))]\n",
    "y = [0,0]\n",
    "plt.plot(x,y,linewidth=3)\n",
    "plt.plot(Y_test,residuos,'ro')\n",
    "plt.ylabel('Residuos')\n",
    "plt.xlabel('kml')\n",
    "plt.savefig(\"Regressão Linear - Resíduos kml.jpg\")\n",
    "plt.show()"
   ]
  },
  {
   "cell_type": "markdown",
   "id": "2bdae85c-dffb-4aa5-9537-716d4066357a",
   "metadata": {},
   "source": [
    "### Testando K-Vizinhos Mais Próximos\n",
    "1. Treinando K-Vizinhos mais Próximos, considerando k =5"
   ]
  },
  {
   "cell_type": "code",
   "execution_count": 33,
   "id": "8401ea97-7dac-4a78-a717-a7aa77c8f920",
   "metadata": {},
   "outputs": [
    {
     "data": {
      "text/plain": [
       "KNeighborsRegressor()"
      ]
     },
     "execution_count": 33,
     "metadata": {},
     "output_type": "execute_result"
    }
   ],
   "source": [
    "kviz = KNeighborsRegressor(n_neighbors=5)\n",
    "kviz.fit(X_train,Y_train)"
   ]
  },
  {
   "cell_type": "markdown",
   "id": "71baa8c4-abe6-4566-9069-9bcc474dec6e",
   "metadata": {},
   "source": [
    "2. Obtendo o Erro Médio Quadrático para o conjunto de testes"
   ]
  },
  {
   "cell_type": "code",
   "execution_count": 34,
   "id": "c31674d5-1bca-4e50-bf44-2a5554369b4b",
   "metadata": {},
   "outputs": [
    {
     "data": {
      "text/plain": [
       "2.631296813559323"
      ]
     },
     "execution_count": 34,
     "metadata": {},
     "output_type": "execute_result"
    }
   ],
   "source": [
    "Y_preditoKViz = kviz.predict(X_test)\n",
    "msekviz = mean_squared_error(Y_preditoKViz,Y_test)\n",
    "msekviz"
   ]
  },
  {
   "cell_type": "markdown",
   "id": "178af27d-55a8-4904-8d5a-c1509c776647",
   "metadata": {},
   "source": [
    "3. Obtendo r^2 para o conjunto de testes"
   ]
  },
  {
   "cell_type": "code",
   "execution_count": 35,
   "id": "e62a0dba-cc8a-4480-b412-16ff4152989e",
   "metadata": {},
   "outputs": [
    {
     "data": {
      "text/plain": [
       "0.6871643992668753"
      ]
     },
     "execution_count": 35,
     "metadata": {},
     "output_type": "execute_result"
    }
   ],
   "source": [
    "r2KViz = r2_score(Y_preditoKViz, Y_test)\n",
    "r2KViz"
   ]
  },
  {
   "cell_type": "markdown",
   "id": "690799db-0bb8-4fee-b48a-8f624fc5888f",
   "metadata": {},
   "source": [
    "4. Calculando os resíduos e plotando o gráfico"
   ]
  },
  {
   "cell_type": "code",
   "execution_count": 37,
   "id": "1f3ff21d-2409-4053-aa5e-07a85b6071f3",
   "metadata": {},
   "outputs": [
    {
     "data": {
      "text/plain": [
       "[2.347023999999999,\n",
       " 4.972900000000002,\n",
       " 4.717584000000007,\n",
       " 4.562496000000004,\n",
       " 0.22467600000000104,\n",
       " 0.006724000000000413,\n",
       " 4.024036000000001,\n",
       " 1.1025000000000016,\n",
       " 0.10368399999999947,\n",
       " 0.03534399999999956,\n",
       " 13.912900000000016,\n",
       " 1.4786559999999984,\n",
       " 0.08409999999999951,\n",
       " 1.3642239999999983,\n",
       " 0.20976400000000017,\n",
       " 18.610596000000015,\n",
       " 0.4488999999999999,\n",
       " 16.646400000000014,\n",
       " 6.071296000000002,\n",
       " 0.0029160000000000292,\n",
       " 0.05569599999999989,\n",
       " 2.6308840000000027,\n",
       " 4.919523999999992,\n",
       " 0.3091359999999991,\n",
       " 0.589824000000001,\n",
       " 0.6723999999999976,\n",
       " 9.43718399999999,\n",
       " 1.0732959999999991,\n",
       " 2.5792359999999994,\n",
       " 0.007055999999999938,\n",
       " 0.586756,\n",
       " 0.1183359999999996,\n",
       " 0.7638760000000026,\n",
       " 0.1368999999999994,\n",
       " 0.029584000000000204,\n",
       " 3.225616000000001,\n",
       " 36.43329600000002,\n",
       " 0.10368399999999947,\n",
       " 1.8495999999999984,\n",
       " 1.0691559999999978,\n",
       " 0.0004840000000000888,\n",
       " 0.0019360000000001208,\n",
       " 0.021315999999999197,\n",
       " 0.5990759999999986,\n",
       " 1.4786560000000004,\n",
       " 0.6593440000000019,\n",
       " 1.3041639999999988,\n",
       " 5.760000000000002,\n",
       " 0.5212840000000006,\n",
       " 2.566404000000001,\n",
       " 0.40195600000000153,\n",
       " 6.927423999999989,\n",
       " 1.3224999999999987,\n",
       " 0.07507599999999952,\n",
       " 16.81,\n",
       " 0.17977600000000032,\n",
       " 1.2056039999999977,\n",
       " 0.008836000000000057,\n",
       " 2.4336000000000015,\n",
       " 5.317635999999996,\n",
       " 2.102499999999998,\n",
       " 10.536516000000002,\n",
       " 1.0000000000000036,\n",
       " 24.940036,\n",
       " 0.21529600000000038,\n",
       " 2.4586239999999986,\n",
       " 0.17977600000000032,\n",
       " 0.2560359999999993,\n",
       " 0.0019359999999999644,\n",
       " 2.869636,\n",
       " 0.3340840000000014,\n",
       " 1.2678759999999987,\n",
       " 0.007055999999999938,\n",
       " 0.14899600000000077,\n",
       " 1.737123999999999,\n",
       " 0.3113639999999978,\n",
       " 5.885475999999984,\n",
       " 0.030276000000000133,\n",
       " 0.25200400000000067,\n",
       " 0.4121639999999993,\n",
       " 0.5212840000000006,\n",
       " 6.220035999999999,\n",
       " 0.06656400000000046,\n",
       " 0.0888039999999995,\n",
       " 0.12390400000000022,\n",
       " 0.8281000000000003,\n",
       " 0.00014400000000001093,\n",
       " 5.721664000000006,\n",
       " 0.2580640000000009,\n",
       " 0.04579600000000018,\n",
       " 0.968256,\n",
       " 0.3599999999999996,\n",
       " 0.0017639999999998354,\n",
       " 7.279203999999993,\n",
       " 5.391684000000013,\n",
       " 1.1924639999999973,\n",
       " 0.6177960000000021,\n",
       " 0.515524,\n",
       " 3.168400000000001,\n",
       " 0.024963999999999834,\n",
       " 0.03686400000000075,\n",
       " 0.17139599999999974,\n",
       " 6.290063999999996,\n",
       " 0.4488999999999999,\n",
       " 6.2100640000000045,\n",
       " 0.12110399999999928,\n",
       " 0.1616039999999994,\n",
       " 4.235364000000007,\n",
       " 0.07617600000000038,\n",
       " 0.18835599999999936,\n",
       " 2.2201000000000057,\n",
       " 0.1814760000000009,\n",
       " 0.3113639999999998,\n",
       " 0.3552160000000001,\n",
       " 0.03027599999999982,\n",
       " 2.903616000000002,\n",
       " 0.18662400000000035,\n",
       " 2.9104360000000042]"
      ]
     },
     "execution_count": 37,
     "metadata": {},
     "output_type": "execute_result"
    }
   ],
   "source": [
    "residuosKViz = []\n",
    "for (x,y) in zip(Y_test,Y_preditoKViz):\n",
    "    residuosKViz.append((x-y)**2)\n",
    "residuosKViz"
   ]
  },
  {
   "cell_type": "code",
   "execution_count": 38,
   "id": "d5c9bd09-64e7-4fab-b313-89a8247a105b",
   "metadata": {},
   "outputs": [
    {
     "data": {
      "image/png": "[encoded data removed]",
      "text/plain": [
       "<Figure size 432x288 with 1 Axes>"
      ]
     },
     "metadata": {
      "needs_background": "light"
     },
     "output_type": "display_data"
    }
   ],
   "source": [
    "x = [0,int(max(Y_test))]\n",
    "y = [0,0]\n",
    "plt.plot(x,y,linewidth=3)\n",
    "plt.plot(Y_test,residuosKViz,'ro')\n",
    "plt.ylabel('Residuos')\n",
    "plt.xlabel('kml')\n",
    "plt.savefig(\"K-Vizinhos mais próximos - Resíduos kml.jpg\")\n",
    "plt.show()"
   ]
  }
 ],
 "metadata": {
  "kernelspec": {
   "display_name": "Python 3",
   "language": "python",
   "name": "python3"
  },
  "language_info": {
   "codemirror_mode": {
    "name": "ipython",
    "version": 3
   },
   "file_extension": ".py",
   "mimetype": "text/x-python",
   "name": "python",
   "nbconvert_exporter": "python",
   "pygments_lexer": "ipython3",
   "version": "3.6.15"
  }
 },
 "nbformat": 4,
 "nbformat_minor": 5
}
